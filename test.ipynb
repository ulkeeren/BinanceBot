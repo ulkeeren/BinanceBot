{
 "cells": [
  {
   "cell_type": "code",
   "id": "initial_id",
   "metadata": {
    "collapsed": true,
    "ExecuteTime": {
     "end_time": "2024-09-13T04:14:51.755168Z",
     "start_time": "2024-09-13T04:14:51.507343Z"
    }
   },
   "source": [
    "from MarketDataStream import MarketDataFetcher\n",
    "import pandas as pd\n",
    "mds = MarketDataFetcher()"
   ],
   "outputs": [],
   "execution_count": 1
  },
  {
   "metadata": {
    "ExecuteTime": {
     "end_time": "2024-09-13T04:14:52.439552Z",
     "start_time": "2024-09-13T04:14:52.362444Z"
    }
   },
   "cell_type": "code",
   "source": [
    "test_file = pd.read_csv('MarketData/APTUSDT/APTUSDT_1h.csv')\n",
    "test_file2= pd.read_csv(\"MarketData/BTCUSDT/BTCUSDT_1h.csv\")"
   ],
   "id": "d572368181a1bca5",
   "outputs": [],
   "execution_count": 2
  },
  {
   "metadata": {
    "ExecuteTime": {
     "end_time": "2024-09-13T04:15:50.081484Z",
     "start_time": "2024-09-13T04:15:49.927070Z"
    }
   },
   "cell_type": "code",
   "source": "a = pd.read_csv(\"MarketData/BTCUSDT/BTCUSDT_1m.csv\")",
   "id": "43cf9b06e0c11b2b",
   "outputs": [],
   "execution_count": 7
  },
  {
   "metadata": {
    "jupyter": {
     "is_executing": true
    }
   },
   "cell_type": "code",
   "source": "print(a)",
   "id": "9f3fe6f4f8f2f9c5",
   "outputs": [],
   "execution_count": null
  },
  {
   "metadata": {},
   "cell_type": "code",
   "outputs": [],
   "execution_count": null,
   "source": "",
   "id": "d3bf8a82f477e9b7"
  }
 ],
 "metadata": {
  "kernelspec": {
   "display_name": "Python 3",
   "language": "python",
   "name": "python3"
  },
  "language_info": {
   "codemirror_mode": {
    "name": "ipython",
    "version": 2
   },
   "file_extension": ".py",
   "mimetype": "text/x-python",
   "name": "python",
   "nbconvert_exporter": "python",
   "pygments_lexer": "ipython2",
   "version": "2.7.6"
  }
 },
 "nbformat": 4,
 "nbformat_minor": 5
}
